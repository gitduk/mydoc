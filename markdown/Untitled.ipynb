{
 "cells": [
  {
   "cell_type": "markdown",
   "metadata": {},
   "source": [
    "l = range(10)"
   ]
  },
  {
   "cell_type": "code",
   "execution_count": 48,
   "metadata": {
    "scrolled": false
   },
   "outputs": [
    {
     "ename": "SyntaxError",
     "evalue": "invalid character in identifier (<ipython-input-48-b73c5dcfa3ce>, line 14)",
     "output_type": "error",
     "traceback": [
      "\u001b[0;36m  File \u001b[0;32m\"<ipython-input-48-b73c5dcfa3ce>\"\u001b[0;36m, line \u001b[0;32m14\u001b[0m\n\u001b[0;31m    sorted(list_, reverse=True， key=lambda x: 7/x)\u001b[0m\n\u001b[0m                              ^\u001b[0m\n\u001b[0;31mSyntaxError\u001b[0m\u001b[0;31m:\u001b[0m invalid character in identifier\n"
     ]
    }
   ],
   "source": [
    "l = range(10)\n",
    "9 in l\n",
    "\n",
    "tuple_ = (1, 2, 3)\n",
    "list_ = [1, 2, 3]\n",
    "list_2 = [4,5,6]\n",
    "list_.append(7)\n",
    "list_\n",
    "list_.extend((7,))\n",
    "list_*= 3\n",
    "list_\n",
    "\n",
    "\n",
    "sorted(list_, reverse=True， key=lambda x: 7/x)"
   ]
  }
 ],
 "metadata": {
  "kernelspec": {
   "display_name": "Python 3",
   "language": "python",
   "name": "python3"
  },
  "language_info": {
   "codemirror_mode": {
    "name": "ipython",
    "version": 3
   },
   "file_extension": ".py",
   "mimetype": "text/x-python",
   "name": "python",
   "nbconvert_exporter": "python",
   "pygments_lexer": "ipython3",
   "version": "3.7.6"
  }
 },
 "nbformat": 4,
 "nbformat_minor": 4
}
